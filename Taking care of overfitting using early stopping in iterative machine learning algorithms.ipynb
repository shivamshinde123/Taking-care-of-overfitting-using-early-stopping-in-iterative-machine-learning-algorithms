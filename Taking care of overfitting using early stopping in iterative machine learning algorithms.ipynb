{
 "cells": [
  {
   "cell_type": "code",
   "execution_count": 1,
   "id": "8a8a152f",
   "metadata": {},
   "outputs": [],
   "source": [
    "import numpy as np\n",
    "import pandas as pd"
   ]
  },
  {
   "cell_type": "code",
   "execution_count": 2,
   "id": "ba26edee",
   "metadata": {},
   "outputs": [],
   "source": [
    "df = pd.read_csv('advertising.csv')"
   ]
  },
  {
   "cell_type": "code",
   "execution_count": 3,
   "id": "b685f625",
   "metadata": {},
   "outputs": [
    {
     "data": {
      "text/plain": [
       "(200, 5)"
      ]
     },
     "execution_count": 3,
     "metadata": {},
     "output_type": "execute_result"
    }
   ],
   "source": [
    "df.shape"
   ]
  },
  {
   "cell_type": "code",
   "execution_count": 4,
   "id": "2b146ae5",
   "metadata": {},
   "outputs": [
    {
     "data": {
      "text/html": [
       "<div>\n",
       "<style scoped>\n",
       "    .dataframe tbody tr th:only-of-type {\n",
       "        vertical-align: middle;\n",
       "    }\n",
       "\n",
       "    .dataframe tbody tr th {\n",
       "        vertical-align: top;\n",
       "    }\n",
       "\n",
       "    .dataframe thead th {\n",
       "        text-align: right;\n",
       "    }\n",
       "</style>\n",
       "<table border=\"1\" class=\"dataframe\">\n",
       "  <thead>\n",
       "    <tr style=\"text-align: right;\">\n",
       "      <th></th>\n",
       "      <th>Unnamed: 0</th>\n",
       "      <th>TV</th>\n",
       "      <th>Radio</th>\n",
       "      <th>Newspaper</th>\n",
       "      <th>Sales</th>\n",
       "    </tr>\n",
       "  </thead>\n",
       "  <tbody>\n",
       "    <tr>\n",
       "      <th>0</th>\n",
       "      <td>1</td>\n",
       "      <td>230.1</td>\n",
       "      <td>37.8</td>\n",
       "      <td>69.2</td>\n",
       "      <td>22.1</td>\n",
       "    </tr>\n",
       "    <tr>\n",
       "      <th>1</th>\n",
       "      <td>2</td>\n",
       "      <td>44.5</td>\n",
       "      <td>39.3</td>\n",
       "      <td>45.1</td>\n",
       "      <td>10.4</td>\n",
       "    </tr>\n",
       "    <tr>\n",
       "      <th>2</th>\n",
       "      <td>3</td>\n",
       "      <td>17.2</td>\n",
       "      <td>45.9</td>\n",
       "      <td>69.3</td>\n",
       "      <td>9.3</td>\n",
       "    </tr>\n",
       "    <tr>\n",
       "      <th>3</th>\n",
       "      <td>4</td>\n",
       "      <td>151.5</td>\n",
       "      <td>41.3</td>\n",
       "      <td>58.5</td>\n",
       "      <td>18.5</td>\n",
       "    </tr>\n",
       "    <tr>\n",
       "      <th>4</th>\n",
       "      <td>5</td>\n",
       "      <td>180.8</td>\n",
       "      <td>10.8</td>\n",
       "      <td>58.4</td>\n",
       "      <td>12.9</td>\n",
       "    </tr>\n",
       "  </tbody>\n",
       "</table>\n",
       "</div>"
      ],
      "text/plain": [
       "   Unnamed: 0     TV  Radio  Newspaper  Sales\n",
       "0           1  230.1   37.8       69.2   22.1\n",
       "1           2   44.5   39.3       45.1   10.4\n",
       "2           3   17.2   45.9       69.3    9.3\n",
       "3           4  151.5   41.3       58.5   18.5\n",
       "4           5  180.8   10.8       58.4   12.9"
      ]
     },
     "execution_count": 4,
     "metadata": {},
     "output_type": "execute_result"
    }
   ],
   "source": [
    "df.head()"
   ]
  },
  {
   "cell_type": "code",
   "execution_count": 5,
   "id": "6e8c880e",
   "metadata": {},
   "outputs": [],
   "source": [
    "df = df.iloc[:,1:]"
   ]
  },
  {
   "cell_type": "code",
   "execution_count": 6,
   "id": "c6ef1d3b",
   "metadata": {},
   "outputs": [
    {
     "data": {
      "text/html": [
       "<div>\n",
       "<style scoped>\n",
       "    .dataframe tbody tr th:only-of-type {\n",
       "        vertical-align: middle;\n",
       "    }\n",
       "\n",
       "    .dataframe tbody tr th {\n",
       "        vertical-align: top;\n",
       "    }\n",
       "\n",
       "    .dataframe thead th {\n",
       "        text-align: right;\n",
       "    }\n",
       "</style>\n",
       "<table border=\"1\" class=\"dataframe\">\n",
       "  <thead>\n",
       "    <tr style=\"text-align: right;\">\n",
       "      <th></th>\n",
       "      <th>TV</th>\n",
       "      <th>Radio</th>\n",
       "      <th>Newspaper</th>\n",
       "      <th>Sales</th>\n",
       "    </tr>\n",
       "  </thead>\n",
       "  <tbody>\n",
       "    <tr>\n",
       "      <th>0</th>\n",
       "      <td>230.1</td>\n",
       "      <td>37.8</td>\n",
       "      <td>69.2</td>\n",
       "      <td>22.1</td>\n",
       "    </tr>\n",
       "    <tr>\n",
       "      <th>1</th>\n",
       "      <td>44.5</td>\n",
       "      <td>39.3</td>\n",
       "      <td>45.1</td>\n",
       "      <td>10.4</td>\n",
       "    </tr>\n",
       "    <tr>\n",
       "      <th>2</th>\n",
       "      <td>17.2</td>\n",
       "      <td>45.9</td>\n",
       "      <td>69.3</td>\n",
       "      <td>9.3</td>\n",
       "    </tr>\n",
       "    <tr>\n",
       "      <th>3</th>\n",
       "      <td>151.5</td>\n",
       "      <td>41.3</td>\n",
       "      <td>58.5</td>\n",
       "      <td>18.5</td>\n",
       "    </tr>\n",
       "    <tr>\n",
       "      <th>4</th>\n",
       "      <td>180.8</td>\n",
       "      <td>10.8</td>\n",
       "      <td>58.4</td>\n",
       "      <td>12.9</td>\n",
       "    </tr>\n",
       "  </tbody>\n",
       "</table>\n",
       "</div>"
      ],
      "text/plain": [
       "      TV  Radio  Newspaper  Sales\n",
       "0  230.1   37.8       69.2   22.1\n",
       "1   44.5   39.3       45.1   10.4\n",
       "2   17.2   45.9       69.3    9.3\n",
       "3  151.5   41.3       58.5   18.5\n",
       "4  180.8   10.8       58.4   12.9"
      ]
     },
     "execution_count": 6,
     "metadata": {},
     "output_type": "execute_result"
    }
   ],
   "source": [
    "df.head()"
   ]
  },
  {
   "cell_type": "code",
   "execution_count": 7,
   "id": "301d27f3",
   "metadata": {},
   "outputs": [],
   "source": [
    "X, y = df.iloc[:,:-1] , df.iloc[:,-1]"
   ]
  },
  {
   "cell_type": "code",
   "execution_count": 8,
   "id": "b6100545",
   "metadata": {},
   "outputs": [],
   "source": [
    "from sklearn.model_selection import train_test_split\n",
    "\n",
    "X_train, X_test, y_train, y_test = train_test_split(X, y, test_size=0.2,random_state=234)"
   ]
  },
  {
   "cell_type": "markdown",
   "id": "59a0b3f6",
   "metadata": {},
   "source": [
    "## Early stopping using custom code"
   ]
  },
  {
   "cell_type": "markdown",
   "id": "6f5c883e",
   "metadata": {},
   "source": [
    "**A very different way to regularize iterative learning algorithms such as gradient descent is to stop the training as soon as the validation error reaches a minimum. This is called an early stopping or beautiful free lunch.**"
   ]
  },
  {
   "cell_type": "markdown",
   "id": "9fd0d9fd",
   "metadata": {},
   "source": [
    "**As the epochs go by the algorithm learns, and its predictions(MSE) on the training set goes down, along with its prediction error on the validation error on the validation set. After a while though, the validation error stops decreasing and starts to go back up. This indicates that the model has started to overfit the training data. With early stopping you just stop training as soon as the validation error reaches the minimum.**"
   ]
  },
  {
   "cell_type": "markdown",
   "id": "a82564b0",
   "metadata": {},
   "source": [
    "**NOTE: Epoch is a machine learning term that refers to the number of passes the training data goes through the algorithm** "
   ]
  },
  {
   "cell_type": "code",
   "execution_count": 9,
   "id": "835f9fd0",
   "metadata": {},
   "outputs": [],
   "source": [
    "from sklearn.pipeline import Pipeline \n",
    "from sklearn.base import clone\n",
    "from sklearn.preprocessing import PolynomialFeatures, StandardScaler\n",
    "from sklearn.linear_model import SGDRegressor\n",
    "from sklearn.metrics import mean_squared_error, r2_score"
   ]
  },
  {
   "cell_type": "code",
   "execution_count": 10,
   "id": "def9cfa5",
   "metadata": {},
   "outputs": [],
   "source": [
    "poly_scalar = Pipeline([\n",
    "    ('poly_feat',PolynomialFeatures(degree=3,include_bias=False)),\n",
    "    ('std_scalar',StandardScaler())\n",
    "])\n",
    "\n",
    "X_train_transformed = poly_scalar.fit_transform(X_train)\n",
    "X_test_transformed = poly_scalar.transform(X_test)"
   ]
  },
  {
   "cell_type": "code",
   "execution_count": 11,
   "id": "325eed7d",
   "metadata": {},
   "outputs": [],
   "source": [
    "reg = SGDRegressor(max_iter=1,tol=-np.infty,warm_start=True,penalty=None,learning_rate='constant',eta0=0.0005)"
   ]
  },
  {
   "cell_type": "code",
   "execution_count": 12,
   "id": "e3ec09fd",
   "metadata": {},
   "outputs": [],
   "source": [
    "minimum_value_error = float('inf')\n",
    "best_epoch = None\n",
    "best_model = None\n",
    "for epoch in range(1000):\n",
    "    reg.fit(X_train_transformed,y_train)\n",
    "    y_pred = reg.predict(X_test_transformed)\n",
    "    val_error = mean_squared_error(y_test,y_pred)\n",
    "    if val_error < minimum_value_error:\n",
    "        minimum_value_error = val_error\n",
    "        best_epoch = epoch\n",
    "        best_model = clone(reg)"
   ]
  },
  {
   "cell_type": "code",
   "execution_count": 13,
   "id": "3e58843c",
   "metadata": {},
   "outputs": [],
   "source": [
    "## creating a function to find the r2 adjusted score\n",
    "\n",
    "def r2_adj(r):\n",
    "    \n",
    "    n = df.shape[0]\n",
    "    m = df.shape[1]\n",
    "    \n",
    "    result =  1 - ((1-r**2)*((n-1)/(n-m-1)))\n",
    "    return result"
   ]
  },
  {
   "cell_type": "code",
   "execution_count": 14,
   "id": "92021f95",
   "metadata": {},
   "outputs": [
    {
     "name": "stdout",
     "output_type": "stream",
     "text": [
      "The r2 score of the stocastic gradient descent model is 0.99181\n",
      "The r2 score of the stocastic gradient descent model is 0.98335\n"
     ]
    }
   ],
   "source": [
    "print(f\"The r2 score of the stocastic gradient descent model is {np.round(r2_score(y_test,y_pred),5)}\")\n",
    "print(f\"The r2 score of the stocastic gradient descent model is {np.round(r2_adj(r2_score(y_test,y_pred)),5)}\")"
   ]
  },
  {
   "cell_type": "markdown",
   "id": "7f5d1cf5",
   "metadata": {},
   "source": [
    "## Early stopping using the scikit-learn"
   ]
  },
  {
   "cell_type": "code",
   "execution_count": 15,
   "id": "344c5977",
   "metadata": {},
   "outputs": [],
   "source": [
    "reg2 = SGDRegressor(random_state=2374,learning_rate='constant',early_stopping=True,penalty=None)"
   ]
  },
  {
   "cell_type": "code",
   "execution_count": 16,
   "id": "82997962",
   "metadata": {},
   "outputs": [],
   "source": [
    "poly_scalar2 = Pipeline([\n",
    "    ('std_scalar',StandardScaler())\n",
    "])"
   ]
  },
  {
   "cell_type": "code",
   "execution_count": 17,
   "id": "12b5eead",
   "metadata": {},
   "outputs": [],
   "source": [
    "X_train_scaled = poly_scalar2.fit_transform(X_train)"
   ]
  },
  {
   "cell_type": "code",
   "execution_count": 18,
   "id": "5ca1fe0b",
   "metadata": {},
   "outputs": [],
   "source": [
    "param = {}\n",
    "param['max_iter'] = np.arange(100,2000,100)\n",
    "param['tol'] = [1e-4,1e-3, 1e-2,1e-1]\n",
    "param['eta0'] = np.arange(0.1,1.1,0.1)"
   ]
  },
  {
   "cell_type": "code",
   "execution_count": 19,
   "id": "f2ff4d69",
   "metadata": {},
   "outputs": [
    {
     "data": {
      "text/plain": [
       "RandomizedSearchCV(estimator=SGDRegressor(early_stopping=True,\n",
       "                                          learning_rate='constant',\n",
       "                                          penalty=None, random_state=2374),\n",
       "                   param_distributions={'eta0': array([0.1, 0.2, 0.3, 0.4, 0.5, 0.6, 0.7, 0.8, 0.9, 1. ]),\n",
       "                                        'max_iter': array([ 100,  200,  300,  400,  500,  600,  700,  800,  900, 1000, 1100,\n",
       "       1200, 1300, 1400, 1500, 1600, 1700, 1800, 1900]),\n",
       "                                        'tol': [0.0001, 0.001, 0.01, 0.1]},\n",
       "                   random_state=23409)"
      ]
     },
     "execution_count": 19,
     "metadata": {},
     "output_type": "execute_result"
    }
   ],
   "source": [
    "from sklearn.model_selection import RandomizedSearchCV\n",
    "\n",
    "r = RandomizedSearchCV(reg2,param,random_state=23409)\n",
    "r.fit(X_train_scaled,y_train)"
   ]
  },
  {
   "cell_type": "code",
   "execution_count": 20,
   "id": "4737e70d",
   "metadata": {},
   "outputs": [
    {
     "data": {
      "text/plain": [
       "{'tol': 0.001, 'max_iter': 1300, 'eta0': 0.2}"
      ]
     },
     "execution_count": 20,
     "metadata": {},
     "output_type": "execute_result"
    }
   ],
   "source": [
    "r.best_params_"
   ]
  },
  {
   "cell_type": "code",
   "execution_count": 26,
   "id": "e3253075",
   "metadata": {},
   "outputs": [
    {
     "data": {
      "text/plain": [
       "SGDRegressor(early_stopping=True, eta0=0.2, learning_rate='constant',\n",
       "             max_iter=1300, penalty=None, random_state=2374)"
      ]
     },
     "execution_count": 26,
     "metadata": {},
     "output_type": "execute_result"
    }
   ],
   "source": [
    "reg2.set_params(tol=0.001,max_iter=1300,eta0=0.2)"
   ]
  },
  {
   "cell_type": "code",
   "execution_count": 27,
   "id": "1b055b74",
   "metadata": {},
   "outputs": [
    {
     "data": {
      "text/plain": [
       "SGDRegressor(early_stopping=True, eta0=0.2, learning_rate='constant',\n",
       "             max_iter=1300, penalty=None, random_state=2374)"
      ]
     },
     "execution_count": 27,
     "metadata": {},
     "output_type": "execute_result"
    }
   ],
   "source": [
    "reg2.fit(X_train_scaled,y_train)"
   ]
  },
  {
   "cell_type": "code",
   "execution_count": 28,
   "id": "060a8f23",
   "metadata": {},
   "outputs": [],
   "source": [
    "X_test_scaled = poly_scalar2.transform(X_test)"
   ]
  },
  {
   "cell_type": "code",
   "execution_count": 29,
   "id": "80999b6e",
   "metadata": {},
   "outputs": [],
   "source": [
    "y_pred2 = reg2.predict(X_test_scaled)"
   ]
  },
  {
   "cell_type": "code",
   "execution_count": 30,
   "id": "4ce7773b",
   "metadata": {},
   "outputs": [
    {
     "name": "stdout",
     "output_type": "stream",
     "text": [
      "The r2 score of the stocastic gradient descent model is 0.91237\n",
      "The r2 score of the stocastic gradient descent model is 0.82898\n"
     ]
    }
   ],
   "source": [
    "print(f\"The r2 score of the stocastic gradient descent model is {np.round(r2_score(y_test,y_pred2),5)}\")\n",
    "print(f\"The r2 score of the stocastic gradient descent model is {np.round(r2_adj(r2_score(y_test,y_pred2)),5)}\")"
   ]
  },
  {
   "cell_type": "code",
   "execution_count": null,
   "id": "8cc3d5f4",
   "metadata": {},
   "outputs": [],
   "source": []
  },
  {
   "cell_type": "code",
   "execution_count": null,
   "id": "9098032a",
   "metadata": {},
   "outputs": [],
   "source": []
  }
 ],
 "metadata": {
  "kernelspec": {
   "display_name": "Python 3 (ipykernel)",
   "language": "python",
   "name": "python3"
  },
  "language_info": {
   "codemirror_mode": {
    "name": "ipython",
    "version": 3
   },
   "file_extension": ".py",
   "mimetype": "text/x-python",
   "name": "python",
   "nbconvert_exporter": "python",
   "pygments_lexer": "ipython3",
   "version": "3.10.0"
  }
 },
 "nbformat": 4,
 "nbformat_minor": 5
}
